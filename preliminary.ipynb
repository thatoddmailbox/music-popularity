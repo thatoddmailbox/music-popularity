{
 "cells": [
  {
   "cell_type": "code",
   "execution_count": 1,
   "id": "9b4d38e2",
   "metadata": {},
   "outputs": [],
   "source": [
    "from music21 import *"
   ]
  },
  {
   "cell_type": "code",
   "execution_count": 2,
   "id": "d1feab4d",
   "metadata": {},
   "outputs": [],
   "source": [
    "import importlib\n",
    "try:\n",
    "    importlib.reload(parser)\n",
    "    importlib.reload(parser.dataset)\n",
    "    importlib.reload(parser.salami)\n",
    "    importlib.reload(parser.song)\n",
    "except NameError:\n",
    "    pass\n",
    "\n",
    "from parser import *"
   ]
  },
  {
   "cell_type": "code",
   "execution_count": 3,
   "id": "e3bccc3a",
   "metadata": {},
   "outputs": [],
   "source": [
    "ds = dataset.Dataset()\n",
    "# print(ds.song_index)"
   ]
  },
  {
   "cell_type": "code",
   "execution_count": 4,
   "id": "21324bcf",
   "metadata": {
    "scrolled": false
   },
   "outputs": [
    {
     "name": "stdout",
     "output_type": "stream",
     "text": [
      "I Don't Mind - James Brown\n",
      "[(0.0, <ChordBlock silence>), (0.073469387, <ChordBlock A, intro (('A:min',), ('A:min',), ('C:maj',), ('C:maj',))>), (8.714013605, <ChordBlock (('A:min',), ('A:min',), ('C:maj',), ('C:maj',))>), (15.611995464, <ChordBlock (('A:min',), ('A:min',), ('C:maj',), ('C:maj',))>), (22.346394557, <ChordBlock B, verse (('A:min',), ('A:min',), ('C:maj',), ('C:maj',))>), (29.219433106, <ChordBlock (('A:min',), ('A:min',), ('C:maj',), ('C:maj',))>), (36.279501133, <ChordBlock (('F:maj',), ('F:maj',), ('D:maj',), ('D:maj',))>), (43.053922902, <ChordBlock (('G:maj',), ('G:maj',), ('C:maj',), ('C:maj',))>), (49.23802721, <ChordBlock B, verse (('A:maj',), ('A:maj',), ('C:maj',), ('C:maj',))>), (56.185079365, <ChordBlock (('A:maj',), ('A:maj',), ('C:maj',), ('C:maj',))>), (63.007732426, <ChordBlock (('F:maj',), ('F:maj',), ('D:maj',), ('D:maj',))>), (69.942857142, <ChordBlock (('G:maj',), ('G:maj',), ('C:maj',), ('C:maj',))>), (76.123990929, <ChordBlock A, interlude (('A:min',), ('A:min',), ('C:maj',), ('C:maj',))>), (82.811201814, <ChordBlock (('A:min',), ('A:min',), ('C:maj',), ('C:maj',))>), (89.535532879, <ChordBlock (('F:maj',), ('F:maj',), ('D:maj',), ('D:maj',))>), (96.418956916, <ChordBlock (('G:maj',), ('G:maj',), ('C:maj',), ('C:maj',))>), (102.924353741, <ChordBlock B, verse (('A:maj',), ('A:maj',), ('C:maj',), ('C:maj',))>), (109.886984126, <ChordBlock (('A:maj',), ('A:maj',), ('C:maj',), ('C:maj',))>), (116.791473922, <ChordBlock (('F:maj',), ('F:maj',), ('D:maj',), ('D:maj',))>), (123.887596371, <ChordBlock (('G:maj',), ('G:maj',), ('C:maj',), ('C:maj',))>), (130.206598639, <ChordBlock A, interlude (('A:min',), ('A:min',), ('C:maj',), ('C:maj',))>), (137.039523809, <ChordBlock (('A:min',), ('A:min',), ('C:maj',), ('C:maj',))>), (143.499319727, <ChordBlock (('A:min',),)>), (148.723809523, <ChordBlock silence>), (150.909387755, <ChordBlock end>)]\n"
     ]
    }
   ],
   "source": [
    "s = ds.song_index[0]\n",
    "print(s)\n",
    "c = s.chords()\n",
    "print(c.blocks)"
   ]
  },
  {
   "cell_type": "code",
   "execution_count": 5,
   "id": "7da6d553",
   "metadata": {
    "scrolled": false
   },
   "outputs": [
    {
     "name": "stdout",
     "output_type": "stream",
     "text": [
      "(('E:maj',), ('E:maj',), ('E:maj',), ('E:maj',)) 32\n",
      "(('D:maj',), ('D:maj',), ('D:maj',), ('D:maj',)) 29\n",
      "(('E:maj',), ('E:maj',)) 27\n",
      "(('G:maj',), ('G:maj',)) 26\n",
      "(('D:maj',), ('D:maj',)) 26\n",
      "(('G:maj',), ('G:maj',), ('G:maj',), ('G:maj',)) 25\n",
      "(('A:maj',),) 22\n",
      "(('C:maj',), ('C:maj',), ('C:maj',), ('C:maj',)) 22\n",
      "(('A:maj',), ('A:maj',), ('A:maj',), ('A:maj',)) 18\n",
      "(('C:maj',), ('C:maj',)) 18\n",
      "(('A:maj',), ('A:maj',), ('E:maj',), ('E:maj',)) 15\n",
      "(('D:maj',), ('D:maj',), ('A:maj',), ('A:maj',)) 15\n",
      "(('Eb:maj',), ('Eb:maj',)) 15\n",
      "(('Bb:maj',), ('Bb:maj',), ('Bb:maj',), ('Bb:maj',)) 14\n",
      "(('D:maj',),) 13\n",
      "(('F:maj',), ('F:maj',), ('C:maj',), ('C:maj',)) 13\n",
      "(('D:min7',), ('D:min7',), ('D:min7',), ('D:min7',)) 12\n",
      "(('D:min',), ('D:min',), ('D:min',), ('D:min',)) 12\n",
      "(('D:7',), ('D:7',), ('D:7',), ('D:7',)) 12\n",
      "(('F:maj',), ('F:maj',), ('F:maj',), ('F:maj',)) 12\n"
     ]
    }
   ],
   "source": [
    "from collections import Counter\n",
    "\n",
    "prog_counts = Counter()\n",
    "progs = {}\n",
    "for s in ds.song_index:\n",
    "    c = s.chords()\n",
    "    used_chords = set()\n",
    "    for time, block in c.blocks:\n",
    "        if block.bars:\n",
    "            if ('N',) in block.bars:\n",
    "                # human didn't know chord\n",
    "                continue\n",
    "\n",
    "            if block.bars not in used_chords:\n",
    "                prog_counts[block.bars] += 1\n",
    "                used_chords.add(block.bars)\n",
    "for bars, count in prog_counts.most_common(20):\n",
    "    print(bars, count)"
   ]
  },
  {
   "cell_type": "code",
   "execution_count": null,
   "id": "a32cf3f8",
   "metadata": {},
   "outputs": [],
   "source": []
  }
 ],
 "metadata": {
  "kernelspec": {
   "display_name": "Python 3 (ipykernel)",
   "language": "python",
   "name": "python3"
  },
  "language_info": {
   "codemirror_mode": {
    "name": "ipython",
    "version": 3
   },
   "file_extension": ".py",
   "mimetype": "text/x-python",
   "name": "python",
   "nbconvert_exporter": "python",
   "pygments_lexer": "ipython3",
   "version": "3.8.12"
  }
 },
 "nbformat": 4,
 "nbformat_minor": 5
}
